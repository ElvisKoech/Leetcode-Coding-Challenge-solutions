{
 "cells": [
  {
   "attachments": {},
   "cell_type": "markdown",
   "metadata": {},
   "source": [
    "#### Maximum Sum sub Array- Kadane's algorithm\n",
    "###### Given an interger array nums, find the contiguous subarray(containing at least one number) which has the largest sum and return its sum.\n",
    "###### A subarray is a contiguous part of an array."
   ]
  },
  {
   "cell_type": "code",
   "execution_count": 3,
   "metadata": {},
   "outputs": [
    {
     "name": "stdout",
     "output_type": "stream",
     "text": [
      "6\n"
     ]
    }
   ],
   "source": [
    "def max_sub_array(nums):\n",
    "    max_Sub = nums[0]\n",
    "    curSum = nums[0]\n",
    "    for num in nums[1:]:\n",
    "        if curSum < 0:\n",
    "            curSum = 0\n",
    "        curSum += num\n",
    "        max_Sub = max(max_Sub, curSum)\n",
    "    return max_Sub\n",
    "\n",
    "nums = [-2, 1, -3, 4, -1, 2, 1, -5, 4]\n",
    "print(max_sub_array(nums))\n"
   ]
  },
  {
   "attachments": {},
   "cell_type": "markdown",
   "metadata": {},
   "source": [
    "#### Best Time to buy and sell stock\n",
    "###### You are given an array of stocks where the stocks[i] is the price of the stock on the ith day\n",
    "###### Return the maximum profit you can achieve from this transaction if you cannot achieve any profit return 0"
   ]
  },
  {
   "cell_type": "code",
   "execution_count": 6,
   "metadata": {},
   "outputs": [
    {
     "data": {
      "text/plain": [
       "5"
      ]
     },
     "execution_count": 6,
     "metadata": {},
     "output_type": "execute_result"
    }
   ],
   "source": [
    "\n",
    "def find_max_profit(prices):\n",
    "\n",
    "    if not prices or len(prices) < 0:\n",
    "        return 0\n",
    "    min_Price = prices[0]\n",
    "    max_profit = 0 \n",
    "\n",
    "    for price  in prices[1:]:\n",
    "       max_profit = max(max_profit, price - min_Price)\n",
    "       min_Price = min(min_Price, price)\n",
    "            \n",
    "\n",
    "    return max_profit\n",
    "\n",
    "\n",
    "prices = [7,1,5,3,6,4]\n",
    "\n",
    "find_max_profit(prices)\n",
    "\n"
   ]
  },
  {
   "attachments": {},
   "cell_type": "markdown",
   "metadata": {},
   "source": [
    "#### Anagrams\n",
    "###### Two strings are anagrams if you can make one from the other by rearranging the strings.\n",
    "###### write a function named is_anagram that takes two strings as its parameters and returns TRUE if the string are anagrams and FALSE otherwise."
   ]
  },
  {
   "cell_type": "code",
   "execution_count": 9,
   "metadata": {},
   "outputs": [
    {
     "name": "stdout",
     "output_type": "stream",
     "text": [
      "True\n"
     ]
    }
   ],
   "source": [
    "def is_anagram(str1, str2):\n",
    "    str1 = str1.lower().replace(\" \", \"\")\n",
    "    str2 = str2.lower().replace(\" \", \"\")\n",
    "\n",
    "    if len(str1) != len(str2):\n",
    "        return False\n",
    "    \n",
    "    dict1 = {}\n",
    "    dict2 = {}\n",
    "    \n",
    "    for char in str1:\n",
    "        if char in dict1:\n",
    "            dict1[char] += 1\n",
    "        else:\n",
    "            dict1[char] = 1\n",
    "    \n",
    "    for char in str2:\n",
    "        if char in dict2:\n",
    "            dict2[char] += 1\n",
    "        else:\n",
    "            dict2[char] = 1\n",
    "    \n",
    "    return dict1 == dict2\n",
    "\n",
    "\n",
    "print(is_anagram(\"typhoon\",\"opython\"))"
   ]
  },
  {
   "cell_type": "markdown",
   "metadata": {},
   "source": []
  }
 ],
 "metadata": {
  "kernelspec": {
   "display_name": "base",
   "language": "python",
   "name": "python3"
  },
  "language_info": {
   "codemirror_mode": {
    "name": "ipython",
    "version": 3
   },
   "file_extension": ".py",
   "mimetype": "text/x-python",
   "name": "python",
   "nbconvert_exporter": "python",
   "pygments_lexer": "ipython3",
   "version": "3.11.0"
  },
  "orig_nbformat": 4
 },
 "nbformat": 4,
 "nbformat_minor": 2
}
