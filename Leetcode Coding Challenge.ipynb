{
 "cells": [
  {
   "attachments": {},
   "cell_type": "markdown",
   "metadata": {},
   "source": [
    "#### Maximum Sum sub Array- Kadane's algorithm\n",
    "###### Given an interger array nums, find the contiguous subarray(containing at least one number) which has the largest sum and return its sum.\n",
    "###### A subarray is a contiguous part of an array."
   ]
  },
  {
   "cell_type": "code",
   "execution_count": 3,
   "metadata": {},
   "outputs": [
    {
     "name": "stdout",
     "output_type": "stream",
     "text": [
      "6\n"
     ]
    }
   ],
   "source": [
    "def max_sub_array(nums):\n",
    "    max_Sub = nums[0]\n",
    "    curSum = nums[0]\n",
    "    for num in nums[1:]:\n",
    "        if curSum < 0:\n",
    "            curSum = 0\n",
    "        curSum += num\n",
    "        max_Sub = max(max_Sub, curSum)\n",
    "    return max_Sub\n",
    "\n",
    "nums = [-2, 1, -3, 4, -1, 2, 1, -5, 4]\n",
    "print(max_sub_array(nums))\n"
   ]
  },
  {
   "attachments": {},
   "cell_type": "markdown",
   "metadata": {},
   "source": [
    "#### Best Time to buy and sell stock\n",
    "###### You are given an array of stocks where the stocks[i] is the price of the stock on the ith day\n",
    "###### Return the maximum profit you can achieve from this transaction if you cannot achieve any profit return 0"
   ]
  },
  {
   "cell_type": "code",
   "execution_count": 6,
   "metadata": {},
   "outputs": [
    {
     "data": {
      "text/plain": [
       "5"
      ]
     },
     "execution_count": 6,
     "metadata": {},
     "output_type": "execute_result"
    }
   ],
   "source": [
    "\n",
    "def find_max_profit(prices):\n",
    "\n",
    "    if not prices or len(prices) < 0:\n",
    "        return 0\n",
    "    min_Price = prices[0]\n",
    "    max_profit = 0 \n",
    "\n",
    "    for price  in prices[1:]:\n",
    "       max_profit = max(max_profit, price - min_Price)\n",
    "       min_Price = min(min_Price, price)\n",
    "            \n",
    "\n",
    "    return max_profit\n",
    "\n",
    "\n",
    "prices = [7,1,5,3,6,4]\n",
    "\n",
    "find_max_profit(prices)\n",
    "\n"
   ]
  },
  {
   "attachments": {},
   "cell_type": "markdown",
   "metadata": {},
   "source": [
    "#### Anagrams\n",
    "###### Two strings are anagrams if you can make one from the other by rearranging the strings.\n",
    "###### write a function named is_anagram that takes two strings as its parameters and returns TRUE if the string are anagrams and FALSE otherwise."
   ]
  },
  {
   "cell_type": "code",
   "execution_count": 9,
   "metadata": {},
   "outputs": [
    {
     "name": "stdout",
     "output_type": "stream",
     "text": [
      "True\n"
     ]
    }
   ],
   "source": [
    "def is_anagram(str1, str2):\n",
    "    str1 = str1.lower().replace(\" \", \"\")\n",
    "    str2 = str2.lower().replace(\" \", \"\")\n",
    "\n",
    "    if len(str1) != len(str2):\n",
    "        return False\n",
    "    \n",
    "    dict1 = {}\n",
    "    dict2 = {}\n",
    "    \n",
    "    for char in str1:\n",
    "        if char in dict1:\n",
    "            dict1[char] += 1\n",
    "        else:\n",
    "            dict1[char] = 1\n",
    "    \n",
    "    for char in str2:\n",
    "        if char in dict2:\n",
    "            dict2[char] += 1\n",
    "        else:\n",
    "            dict2[char] = 1\n",
    "    \n",
    "    return dict1 == dict2\n",
    "\n",
    "\n",
    "print(is_anagram(\"typhoon\",\"opython\"))"
   ]
  },
  {
   "attachments": {},
   "cell_type": "markdown",
   "metadata": {},
   "source": [
    "######  Write a function solution that, given two integers A and B, returns a string containing exactly A letters 'a' and exactly B letters 'b with no three consecutive letters being the same"
   ]
  },
  {
   "cell_type": "code",
   "execution_count": 4,
   "metadata": {},
   "outputs": [
    {
     "data": {
      "text/plain": [
       "'baabaabababababababbbbbb'"
      ]
     },
     "execution_count": 4,
     "metadata": {},
     "output_type": "execute_result"
    }
   ],
   "source": [
    "def twoIntergers(A, B):\n",
    "    if A > B:\n",
    "        return twoIntergers(B, A).replace('a', 'x').replace('b', 'a').replace('x', 'b')\n",
    "    result = ''\n",
    "    while A > 0 and B > 0:\n",
    "        if A == B:\n",
    "            result += 'ab' * A\n",
    "            break\n",
    "        elif A > B:\n",
    "            result += 'aab'\n",
    "            A -= 2\n",
    "            B -= 1\n",
    "        else:\n",
    "            result += 'abb'\n",
    "            A -= 1\n",
    "            B -= 2\n",
    "    if A > 0:\n",
    "        result += 'a' * A\n",
    "    elif B > 0:\n",
    "        result += 'b' * B\n",
    "    return result\n",
    "\n",
    "twoIntergers(10, 8)\n"
   ]
  },
  {
   "attachments": {},
   "cell_type": "markdown",
   "metadata": {},
   "source": [
    "Write a function that accepts an IP address, makes a DNS request, and returns the domain name that maps to that IP address using PTR DNS records."
   ]
  },
  {
   "cell_type": "code",
   "execution_count": 4,
   "metadata": {},
   "outputs": [],
   "source": [
    "import socket\n",
    "\n",
    "def get_domain_from_ip(ip_address):\n",
    "    # Reverse the order of the IP address octets to conform to PTR format\n",
    "    reversed_ip = \".\".join(reversed(ip_address.split(\".\"))) + \".in-addr.arpa\"\n",
    "    \n",
    "    try:\n",
    "        # Perform a DNS request for the PTR record of the IP address\n",
    "        ptr_record = socket.gethostbyaddr(reversed_ip)[0]\n",
    "        \n",
    "        # Strip the trailing period from the PTR record if it exists\n",
    "        if ptr_record.endswith(\".\"):\n",
    "            ptr_record = ptr_record[:-1]\n",
    "            \n",
    "        return ptr_record\n",
    "    \n",
    "    except socket.herror:\n",
    "        # Handle errors that occur if no PTR record exists for the IP address\n",
    "        return None\n"
   ]
  },
  {
   "cell_type": "code",
   "execution_count": 11,
   "metadata": {},
   "outputs": [
    {
     "ename": "gaierror",
     "evalue": "[Errno -2] Name or service not known",
     "output_type": "error",
     "traceback": [
      "\u001b[0;31m---------------------------------------------------------------------------\u001b[0m",
      "\u001b[0;31mgaierror\u001b[0m                                  Traceback (most recent call last)",
      "Cell \u001b[0;32mIn[11], line 2\u001b[0m\n\u001b[1;32m      1\u001b[0m ip_address \u001b[39m=\u001b[39m \u001b[39m\"\u001b[39m\u001b[39m172.67.5.169\u001b[39m\u001b[39m\"\u001b[39m\n\u001b[0;32m----> 2\u001b[0m domain_name \u001b[39m=\u001b[39m get_domain_from_ip(ip_address)\n\u001b[1;32m      3\u001b[0m \u001b[39mprint\u001b[39m(\u001b[39mf\u001b[39m\u001b[39m\"\u001b[39m\u001b[39mThe domain name for \u001b[39m\u001b[39m{\u001b[39;00mip_address\u001b[39m}\u001b[39;00m\u001b[39m is: \u001b[39m\u001b[39m{\u001b[39;00mdomain_name\u001b[39m}\u001b[39;00m\u001b[39m\"\u001b[39m)\n",
      "Cell \u001b[0;32mIn[4], line 9\u001b[0m, in \u001b[0;36mget_domain_from_ip\u001b[0;34m(ip_address)\u001b[0m\n\u001b[1;32m      5\u001b[0m reversed_ip \u001b[39m=\u001b[39m \u001b[39m\"\u001b[39m\u001b[39m.\u001b[39m\u001b[39m\"\u001b[39m\u001b[39m.\u001b[39mjoin(\u001b[39mreversed\u001b[39m(ip_address\u001b[39m.\u001b[39msplit(\u001b[39m\"\u001b[39m\u001b[39m.\u001b[39m\u001b[39m\"\u001b[39m))) \u001b[39m+\u001b[39m \u001b[39m\"\u001b[39m\u001b[39m.in-addr.arpa\u001b[39m\u001b[39m\"\u001b[39m\n\u001b[1;32m      7\u001b[0m \u001b[39mtry\u001b[39;00m:\n\u001b[1;32m      8\u001b[0m     \u001b[39m# Perform a DNS request for the PTR record of the IP address\u001b[39;00m\n\u001b[0;32m----> 9\u001b[0m     ptr_record \u001b[39m=\u001b[39m socket\u001b[39m.\u001b[39;49mgethostbyaddr(reversed_ip)[\u001b[39m0\u001b[39m]\n\u001b[1;32m     11\u001b[0m     \u001b[39m# Strip the trailing period from the PTR record if it exists\u001b[39;00m\n\u001b[1;32m     12\u001b[0m     \u001b[39mif\u001b[39;00m ptr_record\u001b[39m.\u001b[39mendswith(\u001b[39m\"\u001b[39m\u001b[39m.\u001b[39m\u001b[39m\"\u001b[39m):\n",
      "\u001b[0;31mgaierror\u001b[0m: [Errno -2] Name or service not known"
     ]
    }
   ],
   "source": [
    "ip_address = \"172.67.5.169\"\n",
    "domain_name = get_domain_from_ip(ip_address)\n",
    "print(f\"The domain name for {ip_address} is: {domain_name}\")\n"
   ]
  }
 ],
 "metadata": {
  "kernelspec": {
   "display_name": "base",
   "language": "python",
   "name": "python3"
  },
  "language_info": {
   "codemirror_mode": {
    "name": "ipython",
    "version": 3
   },
   "file_extension": ".py",
   "mimetype": "text/x-python",
   "name": "python",
   "nbconvert_exporter": "python",
   "pygments_lexer": "ipython3",
   "version": "3.10.4"
  },
  "orig_nbformat": 4
 },
 "nbformat": 4,
 "nbformat_minor": 2
}
